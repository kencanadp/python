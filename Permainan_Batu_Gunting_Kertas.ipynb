{
  "nbformat": 4,
  "nbformat_minor": 0,
  "metadata": {
    "colab": {
      "name": "Permainan Batu Gunting Kertas.ipynb",
      "provenance": [],
      "authorship_tag": "ABX9TyNuT6aIQARWolrVHGojKOmV",
      "include_colab_link": true
    },
    "kernelspec": {
      "name": "python3",
      "display_name": "Python 3"
    }
  },
  "cells": [
    {
      "cell_type": "markdown",
      "metadata": {
        "id": "view-in-github",
        "colab_type": "text"
      },
      "source": [
        "<a href=\"https://colab.research.google.com/github/kencanadp/python-permainan-batu-gunting-kertas/blob/main/Permainan_Batu_Gunting_Kertas.ipynb\" target=\"_parent\"><img src=\"https://colab.research.google.com/assets/colab-badge.svg\" alt=\"Open In Colab\"/></a>"
      ]
    },
    {
      "cell_type": "code",
      "metadata": {
        "id": "b_5hVZuPVc7j"
      },
      "source": [
        "def validate(hand):\n",
        "    if hand < 0 or hand > 2:\n",
        "        return False\n",
        "    return True"
      ],
      "execution_count": null,
      "outputs": []
    },
    {
      "cell_type": "code",
      "metadata": {
        "id": "FdxcnZ_gVffF"
      },
      "source": [
        "def print_hand(hand, name='Tamu'):\n",
        "    hands = ['Batu', 'Kertas', 'Gunting']\n",
        "    print(name + ' memilih: ' + hands[hand])"
      ],
      "execution_count": null,
      "outputs": []
    },
    {
      "cell_type": "code",
      "metadata": {
        "id": "-ATBY5hNViCc"
      },
      "source": [
        "# Definisikan function judge \n",
        "def judge(player, computer):\n",
        "    # Tambahkan control flow berdasarkan perbandingan antara player dan computer\n",
        "    if player == computer:\n",
        "        return 'Seri'\n",
        "    elif player == 0 and computer == 1:\n",
        "        return 'Kalah'\n",
        "    elif player == 1 and computer == 2:\n",
        "        return 'Kalah'\n",
        "    elif player == 2 and computer == 0:\n",
        "        return 'Kalah'\n",
        "    else:\n",
        "        return 'Menang'"
      ],
      "execution_count": null,
      "outputs": []
    },
    {
      "cell_type": "code",
      "metadata": {
        "id": "vgljIBnIVlv9",
        "outputId": "1275f732-3eaa-455b-e560-6c4419fc7b87",
        "colab": {
          "base_uri": "https://localhost:8080/",
          "height": 85
        }
      },
      "source": [
        "print('Memulai permainan Batu Kertas Gunting!')\n",
        "player_name = input('Masukkan nama Anda: ')\n",
        "\n",
        "print('Pilih tangan: (0: Batu, 1: Kertas, 2: Gunting)')\n",
        "player_hand = int(input('Masukkan nomor (0-2): '))"
      ],
      "execution_count": null,
      "outputs": [
        {
          "output_type": "stream",
          "text": [
            "Memulai permainan Batu Kertas Gunting!\n",
            "Masukkan nama Anda: kencana\n",
            "Pilih tangan: (0: Batu, 1: Kertas, 2: Gunting)\n",
            "Masukkan nomor (0-2): 2\n"
          ],
          "name": "stdout"
        }
      ]
    },
    {
      "cell_type": "code",
      "metadata": {
        "id": "-yQaJ8C4VqP4",
        "outputId": "e576b8c8-6687-48b7-dde8-2b5979059e86",
        "colab": {
          "base_uri": "https://localhost:8080/",
          "height": 68
        }
      },
      "source": [
        "import random\n",
        "\n",
        "if validate(player_hand):\n",
        "    # Tetapkan nomor acak antara 0 dan 2 ke computer_hand menggunakan randint\n",
        "    computer_hand = random.randint(0,2)\n",
        "    \n",
        "    print_hand(player_hand, player_name)\n",
        "    print_hand(computer_hand, 'Komputer')\n",
        "    \n",
        "    # Tetapkan nilai return dari judge ke variable result \n",
        "    result = judge(player_hand, computer_hand)\n",
        "    # Cetak variable result \n",
        "    print('Hasil: ' + result)\n",
        "else:\n",
        "    print('Mohon masukkan nomor yang benar')"
      ],
      "execution_count": null,
      "outputs": [
        {
          "output_type": "stream",
          "text": [
            "kencana memilih: Gunting\n",
            "Komputer memilih: Batu\n",
            "Hasil: Kalah\n"
          ],
          "name": "stdout"
        }
      ]
    }
  ]
}